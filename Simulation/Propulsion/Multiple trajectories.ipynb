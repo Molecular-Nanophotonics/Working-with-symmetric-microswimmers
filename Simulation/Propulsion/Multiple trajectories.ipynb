{
 "cells": [
  {
   "cell_type": "code",
   "execution_count": 16,
   "metadata": {
    "collapsed": true
   },
   "outputs": [],
   "source": [
    "%matplotlib inline\n",
    "import time\n",
    "import random\n",
    "import numpy as np\n",
    "import math\n",
    "import matplotlib\n",
    "import matplotlib.pyplot as plt\n",
    "from scipy.optimize import curve_fit\n",
    "import matplotlib.cm as cm\n",
    "import pandas as pd\n",
    "import os, sys\n",
    "plt.rcParams.update({'font.size': 14})\n",
    "\n",
    "def velocityoftheparticle(distancelaser):      #Calculate the thermophoretic velocity due to the laser offset\n",
    "    if distancelaser <= 5e-6:\n",
    "        foundit = 0; k = 0;lastdiff = 100\n",
    "        while foundit == 0:\n",
    "            diff = abs(distancelaser - velparticle[int(len(vel)/2)+k,0])\n",
    "            if diff > lastdiff: foundit = 1\n",
    "            lastdiff = diff\n",
    "            k += 1\n",
    "        m = (velparticle[int(len(vel)/2)+k-1,1]-velparticle[int(len(vel)/2)+k-2,1])/(velparticle[int(len(vel)/2)+k-1,0]-velparticle[int(len(vel)/2)+k-2,0])\n",
    "        n = velparticle[int(len(vel)/2)+k-1,1] - m * velparticle[int(len(vel)/2)+k-1,0]\n",
    "        return m*distancelaser+n\n",
    "    else: return 0"
   ]
  },
  {
   "cell_type": "code",
   "execution_count": 17,
   "metadata": {
    "collapsed": false
   },
   "outputs": [
    {
     "data": {
      "image/png": "[encoded data removed]",
      "text/plain": [
       "<matplotlib.figure.Figure at 0x133426c18>"
      ]
     },
     "metadata": {},
     "output_type": "display_data"
    }
   ],
   "source": [
    "vel = np.loadtxt('DataVvsOffset.txt')\n",
    "velparticle = np.zeros((len(vel),3))                #Load the velocity of the particle of depending on the distance to the laser\n",
    "velparticle[:,0] = vel[:,0]*1e-6\n",
    "velparticle[:,2] = -vel[:,1]\n",
    "\n",
    "maxvelocity = 0.5*10**-6#5.25e-6        #velocity of the particle depending on the laser power [m/s]\n",
    "velparticle[:,1] = velparticle[:,2]*maxvelocity/max(velparticle[:,2])\n",
    "\n",
    "plt.plot(velparticle[:,0]*1e6,velparticle[:,1]*1e6)\n",
    "plt.xlabel('distance [µm]')\n",
    "plt.ylabel('velocity [µm/s]')\n",
    "plt.show()"
   ]
  },
  {
   "cell_type": "code",
   "execution_count": 22,
   "metadata": {
    "collapsed": false
   },
   "outputs": [
    {
     "name": "stdout",
     "output_type": "stream",
     "text": [
      "--- 4.51 seconds ---\n",
      "--- 5.01 seconds ---\n",
      "--- 6.38 seconds ---\n",
      "--- 8.44 seconds ---\n",
      "--- 9.63 seconds ---\n",
      "--- 10.49 seconds ---\n",
      "--- 10.79 seconds ---\n"
     ]
    },
    {
     "name": "stderr",
     "output_type": "stream",
     "text": [
      "/Users/alex/anaconda/lib/python3.5/site-packages/numpy/core/_methods.py:59: RuntimeWarning: Mean of empty slice.\n",
      "  warnings.warn(\"Mean of empty slice.\", RuntimeWarning)\n",
      "/Users/alex/anaconda/lib/python3.5/site-packages/numpy/core/_methods.py:82: RuntimeWarning: Degrees of freedom <= 0 for slice\n",
      "  warnings.warn(\"Degrees of freedom <= 0 for slice\", RuntimeWarning)\n"
     ]
    },
    {
     "name": "stdout",
     "output_type": "stream",
     "text": [
      "--- 11.4 seconds ---\n",
      "--- 11.62 seconds ---\n"
     ]
    },
    {
     "name": "stderr",
     "output_type": "stream",
     "text": [
      "/Users/alex/anaconda/lib/python3.5/site-packages/numpy/core/_methods.py:59: RuntimeWarning: Mean of empty slice.\n",
      "  warnings.warn(\"Mean of empty slice.\", RuntimeWarning)\n",
      "/Users/alex/anaconda/lib/python3.5/site-packages/numpy/core/_methods.py:82: RuntimeWarning: Degrees of freedom <= 0 for slice\n",
      "  warnings.warn(\"Degrees of freedom <= 0 for slice\", RuntimeWarning)\n"
     ]
    },
    {
     "name": "stdout",
     "output_type": "stream",
     "text": [
      "--- 11.96 seconds ---\n"
     ]
    },
    {
     "name": "stderr",
     "output_type": "stream",
     "text": [
      "/Users/alex/anaconda/lib/python3.5/site-packages/numpy/core/_methods.py:59: RuntimeWarning: Mean of empty slice.\n",
      "  warnings.warn(\"Mean of empty slice.\", RuntimeWarning)\n",
      "/Users/alex/anaconda/lib/python3.5/site-packages/numpy/core/_methods.py:82: RuntimeWarning: Degrees of freedom <= 0 for slice\n",
      "  warnings.warn(\"Degrees of freedom <= 0 for slice\", RuntimeWarning)\n"
     ]
    },
    {
     "name": "stdout",
     "output_type": "stream",
     "text": [
      "--- 12.36 seconds ---\n"
     ]
    },
    {
     "name": "stderr",
     "output_type": "stream",
     "text": [
      "/Users/alex/anaconda/lib/python3.5/site-packages/numpy/core/_methods.py:59: RuntimeWarning: Mean of empty slice.\n",
      "  warnings.warn(\"Mean of empty slice.\", RuntimeWarning)\n",
      "/Users/alex/anaconda/lib/python3.5/site-packages/numpy/core/_methods.py:82: RuntimeWarning: Degrees of freedom <= 0 for slice\n",
      "  warnings.warn(\"Degrees of freedom <= 0 for slice\", RuntimeWarning)\n"
     ]
    },
    {
     "name": "stdout",
     "output_type": "stream",
     "text": [
      "--- 12.32 seconds ---\n",
      "--- 12.58 seconds ---\n",
      "--- 12.57 seconds ---\n",
      "--- 13.19 seconds ---\n",
      "--- 13.26 seconds ---\n",
      "--- 13.87 seconds ---\n",
      "--- 13.91 seconds ---\n",
      "--- 14.2 seconds ---\n",
      "--- 14.26 seconds ---\n",
      "--- 14.51 seconds ---\n",
      "--- 14.6 seconds ---\n",
      "--- 14.71 seconds ---\n",
      "--- 15.03 seconds ---\n",
      "--- 15.51 seconds ---\n",
      "--- 15.41 seconds ---\n",
      "--- 16.16 seconds ---\n",
      "--- 16.06 seconds ---\n",
      "--- 16.27 seconds ---\n",
      "--- 16.61 seconds ---\n",
      "--- 16.88 seconds ---\n",
      "--- 17.27 seconds ---\n",
      "--- 17.55 seconds ---\n",
      "--- 17.66 seconds ---\n",
      "--- 18.5 seconds ---\n",
      "--- 19.44 seconds ---\n",
      "--- 19.47 seconds ---\n",
      "--- 19.3 seconds ---\n",
      "--- 19.51 seconds ---\n",
      "--- 20.73 seconds ---\n",
      "--- 20.95 seconds ---\n",
      "--- 22.55 seconds ---\n",
      "--- 23.4 seconds ---\n",
      "--- 22.34 seconds ---\n",
      "--- 22.89 seconds ---\n",
      "--- 22.86 seconds ---\n",
      "--- 23.96 seconds ---\n",
      "--- 23.69 seconds ---\n",
      "--- 24.61 seconds ---\n",
      "--- 25.47 seconds ---\n",
      "--- 25.63 seconds ---\n",
      "--- 25.74 seconds ---\n",
      "--- 26.06 seconds ---\n",
      "--- 27.07 seconds ---\n",
      "--- 26.79 seconds ---\n",
      "--- 27.82 seconds ---\n",
      "--- 28.02 seconds ---\n",
      "--- 28.58 seconds ---\n",
      "--- 29.03 seconds ---\n",
      "--- 29.67 seconds ---\n",
      "--- 30.05 seconds ---\n"
     ]
    }
   ],
   "source": [
    "np.random.seed(4) \n",
    "\n",
    "stepsexp  = 10000                               #number of camera pictures\n",
    "maxvelocity = 9e-6#5.25e-6                    #max velocity for the Velocity vs laser offset curve\n",
    "                                                #Fig 1c; https://www.nature.com/articles/s41467-018-06445-1.pdf\n",
    "diameter = 2.19e-6                              #diameter of the particle\n",
    "dt = 0.03                                       #iteration time of the camera [s]\n",
    "D_0 = 7.4e-14#D_0 = 3.85e-14                    #measured diffusion coefficient D_0 = kB*T/(6*np.pi*eta*radius)\n",
    "kB = 1.38064852e-23                             #Boltzmanns constant [J/K]\n",
    "T = 273.15 + 20                                 #Room temperature [K]\n",
    "eta = 2.414e-5*10**(247.8/(T-140))              #Viscosity [Pa*s]\n",
    "substep = 10                                    #dt/substep - time for diffusion step\n",
    "pxtomum = 0.0533e-6#0.027e-6                       #px to µm vonversion\n",
    "offset = 14                                     #offset of the laser [px]\n",
    "videosize = 1000                                #size of the video [px]\n",
    "binning = 2\n",
    "dtprogram = 13.6e-3                             #time of the program (tracking + calculation) [s]\n",
    "dtsendtoadwin = 1e-3                            #time to send signal from PC to Adwin [s]\n",
    "dttransferfromcamtocom = 1e-3                   #time to send from cam to PC (unknown) [s]\n",
    "dtframetransfer = videosize/binning * 1.9176e-6         #time for frametransfer [s]\n",
    "dtreadout = (1032/(27e6) + 1.9176e-6)*videosize/binning #time to readout the cam [s]\n",
    "diffusion = True                                #Switching diffusion on and off\n",
    "frametransfer = False\n",
    "flashlight = True\n",
    "flashtime = 0.01\n",
    "\n",
    "savefolderplus = '.'\n",
    "velparticle = np.zeros((len(vel),3))\n",
    "#vel = pd.read_csv('/Users/alex/Documents/Projects/Santiago speed/datos_vel_Python2.csv')          \n",
    "#velparticle[:,0] = vel[vel.columns[0]]*1e-6        #Load the velocity of the particle of depending on the distance to the laser\n",
    "#velparticle[:,2] = vel[vel.columns[1]]             #x * Gaussian velocity curve\n",
    "vel = np.loadtxt('DataVvsOffset.txt')\n",
    "velparticle[:,0] = vel[:,0]*1e-6                    #Load the velocity of the particle of depending on the distance to the laser\n",
    "velparticle[:,1] = -vel[:,1]\n",
    "velparticle[:,1] *= maxvelocity/max(velparticle[:,1])\n",
    "velparticle[:,2] = -vel[:,1]                        #exact velocity curve\n",
    "addtimelaser = dtreadout + dttransferfromcamtocom\n",
    "if frametransfer == True: addtimelaser += dtframetransfer\n",
    "length = substep * stepsexp\n",
    "subdt = dt/substep                               #dt for diffusion\n",
    "flashframe = max(int(flashtime/subdt),1)\n",
    "shortlengthstart = int(length/substep)-1              #number of recorded camera pictures\n",
    "prefactor = np.sqrt(2*D_0*subdt)                 #value for calculation of the random steps\n",
    "radius = diameter/2\n",
    "delaytime = dt/2+dtframetransfer+dtreadout+dtprogram+dtsendtoadwin*2 #Total delay time\n",
    "timevalue = substep * subdt/2                                  #time difference between average particle position and end of picture recording\n",
    "timevalue2 = addtimelaser + dtprogram + dtsendtoadwin                #time difference between end of picture recording and laser positioning\n",
    "timewave = np.linspace(0,subdt*length,length,endpoint=False)  #Timewave for sub cam resolution\n",
    "shorttimewave = np.linspace(0,dt*stepsexp,stepsexp,endpoint=False)  #Timewave for sub cam resolution\n",
    "\n",
    "offsetwave = np.linspace(0,60,61)\n",
    "for p in range(61):\n",
    "#for p in range(1): \n",
    "    offset = offsetwave[p]\n",
    "    particles = np.zeros((length,5))                 #particle       0 - x; 1 - y; 2 - time; 3 - distance to laser\n",
    "    particles[:,3:5] = np.nan                        #               4 - velocity from laser \n",
    "    particles[0,0] = 0\n",
    "    particles[0,1] = 0\n",
    "    laser = np.zeros((shortlengthstart+1,2))              #laserposition  0 - x; 1 - y;\n",
    "    particlescamera = np.zeros((shortlengthstart+1,11))   #cam detection  0 - x; 1 - y; 2 - time of the average particle position\n",
    "                                                     #               3 - time at which the the laser is placed \n",
    "                                                     #               4 - xstep; 5 - ystep; 6 - step length\n",
    "                                                     #               7/8 - Actual position of the particle at the timepoint of the laser positioning\n",
    "                                                     #               9/10 x/y after substraction of the correction angle for drift\n",
    "    noisesteps = np.zeros((length,2))                #random steps\n",
    "    for i in range(2): noisesteps[:,i] = prefactor*np.random.normal(0,1,length)\n",
    "    deltas = np.zeros(2)\n",
    "    #---------------\n",
    "    start_time = time.time()    \n",
    "    cameraframe = 0; laserframe = 0; readframe = 1\n",
    "    for i in range(1,length):                                                                                                            \n",
    "        particles[i,2] = subdt*i                                         #Set Time\n",
    "        particles[i,:2] = particles[i-1,:2]                              #Position equals position before\n",
    "        if diffusion == True:\n",
    "            for j in range(2): particles[i,j] += noisesteps[i,j]         #add diffusion\n",
    "        if i % substep == 0 and i != 0:                                  #Particle position on the camera image every N frames\n",
    "            cameraframe += 1\n",
    "            if flashlight == False: \n",
    "                for j in range(2): particlescamera[cameraframe,j] = np.mean(particles[i-substep:i,j])\n",
    "                particlescamera[cameraframe,2] = particles[i,2] - timevalue  #Time of the average particle position\n",
    "            else: \n",
    "                for j in range(2): particlescamera[cameraframe,j] = np.mean(particles[i-substep:i-substep+flashframe,j])\n",
    "                particlescamera[cameraframe,2] = particles[i,2] - (dt-flashtime/2)  #Time of the average particle position\n",
    "            particlescamera[cameraframe,3] = particles[i,2] + timevalue2 #Time laser is placed\n",
    "        if particles[i,2] >= particlescamera[readframe,3] and cameraframe > laserframe:\n",
    "            if laserframe == 0: deletesteps = cameraframe\n",
    "            laserframe += 1                                              #Set laser at right timepoint\n",
    "            particlescamera[cameraframe,7] = particles[i,0]              #Actual position of the particle at the timepoint of the laser positioning\n",
    "            particlescamera[cameraframe,8] = particles[i,1]\n",
    "            laser[laserframe,0] = particlescamera[readframe,0]-offset*pxtomum#*np.cos(particlescamera[cameraframe,5]*np.pi/180)       \n",
    "            laser[laserframe,1] = particlescamera[readframe,1]#offset*pxtomum*np.sin(particlescamera[cameraframe,5]*np.pi/180)\n",
    "            readframe += 1                                     #Set laser position\n",
    "        if laserframe > 0:\n",
    "            for j in range(2): deltas[j] = particles[i,j]-laser[laserframe,j]\n",
    "            particles[i,3] = np.sqrt(pow(deltas[0],2)+pow(deltas[1],2))  #Distance particle - laser\n",
    "            particles[i,4] = velocityoftheparticle(particles[i,3])       #Resulting thermophoretic velocity\n",
    "            for j in range(2): particles[i,j] += particles[i,4]/particles[i,3]*deltas[j]*subdt \n",
    "    print(\"--- %s seconds ---\" % round((time.time() - start_time),2))    #Add thermophotetic velocity\n",
    "    shortlength = shortlengthstart - deletesteps\n",
    "    particlescamera2 = particlescamera\n",
    "    particlescamera = np.zeros((shortlength,11))\n",
    "    particlescamera = particlescamera2[:shortlength,:]\n",
    "    laser2 = laser\n",
    "    laser = np.zeros((shortlength,2))\n",
    "    laser = laser2[:shortlength,:]\n",
    "    #-------------------\n",
    "    for i in range(1,shortlength):    #Calculate x-step, y-step, step length\n",
    "        particlescamera[i,4] = particlescamera[i,0] - particlescamera[i-1,0]\n",
    "        particlescamera[i,5] = particlescamera[i,1] - particlescamera[i-1,1]\n",
    "        particlescamera[i,6] = np.sqrt(pow(particlescamera[i,4],2)+pow(particlescamera[i,5],2))\n",
    "    radialparticle = np.zeros((shortlength,2))\n",
    "    radialparticle[:,0] = particlescamera[:,6]\n",
    "    for i in range(shortlength):      #particle steps in polar coordinates\n",
    "        if particlescamera[i,4] > 0: radialparticle[i,1] = np.arctan(particlescamera[i,5]/particlescamera[i,4])*180/np.pi\n",
    "        else:\n",
    "            if particlescamera[i,5] < 0: radialparticle[i,1] = (np.arctan(particlescamera[i,5]/particlescamera[i,4])-np.pi)*180/np.pi\n",
    "            else: radialparticle[i,1] = (np.arctan(particlescamera[i,5]/particlescamera[i,4])+np.pi)*180/np.pi\n",
    "    corrangleright = np.mean(radialparticle[1:,1])               #correction angle for drift\n",
    "    radialparticle[:,1] -= corrangleright                        #substract the angle\n",
    "    particlescamera[:,9] = radialparticle[:,0]*np.cos(radialparticle[:,1]*np.pi/180)   #rewrite steps in cartesian coordinates\n",
    "    particlescamera[:,10] = radialparticle[:,0]*np.sin(radialparticle[:,1]*np.pi/180)\n",
    "    vright = np.mean(particlescamera[1:-1,6])*1e6/dt             #velocity\n",
    "    vrightx = np.mean(particlescamera[1:-1,9])*1e6/dt            #velocity in x-direction\n",
    "    meany = np.mean(particlescamera[1:,10])*1e6                  #mean y-position\n",
    "    varrightx = np.var(particlescamera[1:,9]*1e6)                #variance of the x-steps\n",
    "    varrighty = np.var(particlescamera[1:,10]*1e6)               #variance of the y-steps\n",
    "    varrightangle = np.var(radialparticle[1:-1,1])               #variance of the moving angle\n",
    "    HWHMrightangle = np.sqrt(2*np.log(2))*np.sqrt(varrightangle) #HWHM of the moving angle\n",
    "    #printname = 'dt '+str(dt)+'s - v '+str(round(vrightx,2))+'ums - offset '+str(offset)+'px'\n",
    "    printname = 'offset '+str(offset)+'px - dt '+str(dt)+'s - v '+str(round(vrightx,2))+'mums'\n",
    "    \n",
    "    binwave=np.linspace(0,max(particlescamera[1:-1,6]*1e6)/dt,20)\n",
    "    string_temp = savefolderplus + '/PlotVelocity/'\n",
    "    if not os.path.exists(string_temp): os.makedirs(string_temp)\n",
    "    fig=plt.figure(1, figsize = (7.5,5) )                        #Plot histogram velocity\n",
    "    plt.subplot(1,1,1)\n",
    "    data = plt.hist(radialparticle[:,0]*1e6/dt,normed=1,bins=binwave,alpha=0.5,label='v')\n",
    "    data2 = plt.hist(particlescamera[1:,9]*1e6/dt,normed=1,bins=binwave,alpha=0.5,label='v in x-direction')\n",
    "    plt.axvline(x=vrightx,linewidth=0.5, color = 'k',linestyle='--')\n",
    "    plt.text(vrightx,max(data[0])/2,'v in x-direction = '+str(round(vrightx,2))+' µm/s')\n",
    "    plt.axvline(x=vright,linewidth=0.5, color = 'k',linestyle='--')\n",
    "    plt.text(vright,max(data2[0])/3,'v = '+str(round(vright,2))+' µm/s')\n",
    "    plt.xlabel('Velocity [$\\mu m/s$]')\n",
    "    plt.ylabel('accurance')\n",
    "    plt.xlim([0,max(particlescamera[1:-1,6]*1e6)/dt])\n",
    "    plt.title(' ')\n",
    "    fig.suptitle('Sim - Velocity Histogram - dt = '+str(dt)+'s - v = '+str(round(vrightx,2))+'µm/s - offset = '+str(offset)+'px')\n",
    "    plt.tight_layout() \n",
    "    plt.savefig(string_temp+'Sim - Velocity Histogram'+str(printname)+'.pdf', format='pdf')\n",
    "    plt.close(fig)#plt.show()\n",
    "    #---------------------\n",
    "    laseroffset = np.zeros((shortlength,3))   #Calculate the offset between the laser and the particle\n",
    "    for i in range(shortlength):              #at the timepoint where the laser is placed first\n",
    "        laseroffset[i,0] = laser[i,0]-particlescamera[i,7]\n",
    "        laseroffset[i,1] = laser[i,1]-particlescamera[i,8]\n",
    "        laseroffset[i,2] = np.arctan((laser[i,1]-particlescamera[i,8])/(laser[i,0]-particlescamera[i,7]))*180/np.pi\n",
    "    varlaserx = np.var(laseroffset[1:,0]*1e6)                     #variance for x          \n",
    "    varlasery = np.var(laseroffset[1:,1]*1e6)                     #variance for y\n",
    "    varlaserangle = np.var(laseroffset[1:,2])                     #variance for the angle\n",
    "    HWHMlaserangle = np.sqrt(2*np.log(2))*np.sqrt(varlaserangle)  #HWHM for the angle\n",
    "    meanlaserx = np.mean(laseroffset[1:,0]*1e6)                   #mean for x\n",
    "\n",
    "    string_temp = savefolderplus + '/PlotLaserspots/'\n",
    "    if not os.path.exists(string_temp): os.makedirs(string_temp)\n",
    "    fig, ax = plt.subplots(figsize=(10, 5), sharey='all')         #Plot Laser offset\n",
    "    ax = plt.subplot(1,2,1)\n",
    "    plt.scatter((laser[1:-1,0]-particlescamera[1:-1,7])*1e6,(laser[1:-1,1]-particlescamera[1:-1,8])*1e6,c='b',alpha = 0.01)\n",
    "    plt.xlabel('x  [µm]')\n",
    "    plt.ylabel('y  [µm]')\n",
    "    plt.axhline(y=0,linewidth=0.5, color = 'k',linestyle='--')\n",
    "    x = np.cos(HWHMlaserangle*np.pi/180)*radius*1e6\n",
    "    y = np.sin(HWHMlaserangle*np.pi/180)*radius*1e6\n",
    "    plt.plot([0,-x],[0,y],'k--')\n",
    "    plt.plot([0,-x],[0,-y],'k--')\n",
    "    plt.text(-x+0.2,y,'HWHM = '+str(round(HWHMlaserangle,2))+'°')\n",
    "    plt.axvline(x=0,linewidth=0.5, color = 'k',linestyle='--')\n",
    "    circle2 = plt.Circle((0, 0), radius*1e6 , color='k', fill=False)\n",
    "    ax.add_artist(circle2)\n",
    "    plt.scatter(-offset*pxtomum*1e6,0,color='g',s=200)\n",
    "    xmin = min(offset*pxtomum*1e6,min((laser[1:-1,0]-particlescamera[1:-1,7])*1e6),-1.1*radius*1e6)\n",
    "    xmax = max(max((laser[1:-1,0]-particlescamera[1:-1,7])*1e6),0)\n",
    "    ax.axis('equal')\n",
    "    ax.set_xlim([xmin,xmax])\n",
    "    plt.title(' ')\n",
    "\n",
    "    ax1 = ax.twinx()\n",
    "    color = 'tab:red'\n",
    "    ax1.plot(-velparticle[:,0]*1e6,velparticle[:,1]*1e6, color=color, linewidth = 1)\n",
    "    ax1.tick_params(axis='y', labelcolor=color)\n",
    "    ax1.set_ylim(-1.1*max(velparticle[:,1]*1e6),1.1*max(velparticle[:,1]*1e6))\n",
    "    ax1.set_ylabel('Theoretic resulting velocity [µm/s]',color=color)\n",
    "\n",
    "    gridsizevalue = 15\n",
    "    ax2 = plt.subplot(1,2,2)\n",
    "    hb = ax2.hexbin((laser[1:-1,0]-particlescamera[1:-1,7])*1e6,(laser[1:-1,1]-particlescamera[1:-1,8])*1e6, gridsize=gridsizevalue,mincnt=0.01)\n",
    "    plt.xlabel('x [µm]')\n",
    "    plt.axhline(y=0,linewidth=0.5, color = 'k',linestyle='--')\n",
    "    plt.axvline(x=0,linewidth=0.5, color = 'k',linestyle='--')\n",
    "    circle2 = plt.Circle((0, 0), radius*1e6 , color='k', fill=False)\n",
    "    ax2.axis('equal')\n",
    "    ax2.add_artist(circle2)\n",
    "    plt.scatter(-offset*pxtomum*1e6,0,color='g',s=200)\n",
    "    ax2.set_xlim([xmin,xmax])\n",
    "\n",
    "    ax.set_xlim([xmin,xmax])\n",
    "    plt.title(' ')\n",
    "    fig.suptitle('Sim - Offset of the laser on the particle - dt = '+str(dt)+'s - v = '+str(round(vrightx,2))+'µm/s - offset = '+str(offset)+'px')\n",
    "\n",
    "    plt.tight_layout()    \n",
    "    plt.savefig(string_temp+'Sim - Laser offset '+str(printname)+'.pdf', format='pdf')\n",
    "    plt.close(fig)#plt.show()\n",
    "    #-----------\n",
    "    string_temp = savefolderplus + '/PlotStepdistribution/'\n",
    "    if not os.path.exists(string_temp): os.makedirs(string_temp)\n",
    "    fig, ax = plt.subplots(figsize=(12, 5), sharey='all')\n",
    "    ax = plt.subplot(1,2,1)\n",
    "    plt.scatter(particlescamera[5:-1,9]*1e6,particlescamera[5:-1,10]*1e6,c='b',alpha = 0.002)\n",
    "    plt.xlabel('x step [µm]')\n",
    "    plt.ylabel('y step [µm]')\n",
    "    plt.axhline(y=0,linewidth=0.5, color = 'k',linestyle='--')\n",
    "    plt.axvline(x=0,linewidth=0.5, color = 'k',linestyle='--')\n",
    "    circle2 = plt.Circle((0, 0), np.nanmean(particlescamera[1:,6]*1e6) , color='k', fill=False)\n",
    "    ax.add_artist(circle2)\n",
    "    limit = np.nanmax(abs(particlescamera[1:,9:10]))*1e6\n",
    "    ax.axis('equal')\n",
    "    ax.set_xlim([-limit,limit])\n",
    "    ax.set_ylim([-limit,limit])\n",
    "    plt.title(' ')\n",
    "    x = np.cos(HWHMrightangle*np.pi/180)*np.nanmean(particlescamera[1:,6]*1e6)\n",
    "    y = np.sin(HWHMrightangle*np.pi/180)*np.nanmean(particlescamera[1:,6]*1e6)\n",
    "    plt.plot([0,x],[0,y],'k--')\n",
    "    plt.plot([0,x],[0,-y],'k--')\n",
    "    plt.text(x,y,'HWHM = '+str(round(HWHMrightangle,2))+'°')\n",
    "\n",
    "    gridsizevalue = 15\n",
    "    ax2 = plt.subplot(1,2,2)\n",
    "    hb = ax2.hexbin(particlescamera[5:-1,9]*1e6,particlescamera[5:-1,10]*1e6, gridsize=gridsizevalue,mincnt=0.01)\n",
    "    cb = fig.colorbar(hb, ax=ax2)\n",
    "    cb.set_label('counts')\n",
    "    plt.xlabel('x step [µm]')\n",
    "    #plt.ylabel('y step [µm]')\n",
    "    plt.axhline(y=0,linewidth=0.5, color = 'k',linestyle='--')\n",
    "    plt.axvline(x=0,linewidth=0.5, color = 'k',linestyle='--')\n",
    "    circle2 = plt.Circle((0, 0), np.nanmean(particlescamera[1:,6])*1e6 , color='k', fill=False)\n",
    "    ax2.add_artist(circle2)\n",
    "    ax2.axis('equal')\n",
    "    ax2.set_xlim([-limit,limit])\n",
    "    ax2.set_ylim([-limit,limit])\n",
    "    plt.title(' ')\n",
    "\n",
    "    fig.suptitle('Sim - Variation in the resulting steps - dt = '+str(dt)+'s - v = '+str(round(vrightx,2))+'µm/s - offset = '+str(offset)+'px')\n",
    "    plt.tight_layout()  \n",
    "    plt.savefig(string_temp+'Sim - Resulting steps '+str(printname)+'.pdf', format='pdf')\n",
    "    plt.close(fig)#plt.show()\n",
    "    #-------------\n",
    "    anglewave = np.linspace(-90,90,19)\n",
    "    collectv = np.zeros((shortlength,19))\n",
    "    count = np.zeros(19)\n",
    "    for i in range(2,shortlength-1):\n",
    "        j = 1; check = False\n",
    "        while check == False:\n",
    "            if radialparticle[i,1] < anglewave[j] and radialparticle[i,1] > anglewave[j-1]:\n",
    "                collectv[int(count[j]),j] = radialparticle[i,0]#/dt#particlescamera[i,9]#\n",
    "                count[j] += 1\n",
    "                check = True\n",
    "            else: j += 1\n",
    "            if j == 19:\n",
    "                check = True\n",
    "\n",
    "    averagev = np.zeros((19,2))\n",
    "    for i in range(1,19):\n",
    "        averagev[i,0] = np.mean(collectv[:int(count[i]),i])\n",
    "        averagev[i,1] = np.std(collectv[:int(count[i]),i])\n",
    "    averagev[:,1] /= np.sqrt(count[:])\n",
    "\n",
    "    anglewave2 = np.zeros(18)\n",
    "    for i in range(18): anglewave2[i] = (anglewave[i]+anglewave[i+1])/2\n",
    "\n",
    "    string_temp = savefolderplus + '/PlotDirectiondistribution/'\n",
    "    if not os.path.exists(string_temp): os.makedirs(string_temp)\n",
    "    fig, ax = plt.subplots(figsize=(12, 5), sharey='all')\n",
    "    ax = plt.subplot(1,2,1)\n",
    "    binwave = np.linspace(-90,90,19)\n",
    "    data = plt.hist(radialparticle[1:,1],bins=binwave,normed=1)\n",
    "    plt.axvline(x=HWHMrightangle,linewidth=0.5, color = 'k',linestyle='--')\n",
    "    plt.axvline(x=-HWHMrightangle,linewidth=0.5, color = 'k',linestyle='--')\n",
    "    plt.text(-HWHMrightangle,max(data[0])/2,'HWHM = '+str(round(HWHMrightangle,1))+'°')\n",
    "    plt.xlabel('angle of the movement [°]')\n",
    "    plt.ylabel('Counts')\n",
    "\n",
    "    ax = plt.subplot(1,2,2)\n",
    "    plt.errorbar(anglewave2,averagev[1:,0]*1e6/dt,yerr= averagev[1:,1]*1e6/dt,label='err = std/sqrt(N)')\n",
    "    plt.axhline(y=np.mean(particlescamera[1:,6]*1e6/dt),linewidth=0.5, color = 'k',linestyle='--')\n",
    "    plt.xlabel('angle of the movement [°]')\n",
    "    plt.ylabel('Velocity [µm/s]')\n",
    "    plt.title(' ')\n",
    "    plt.legend()\n",
    "\n",
    "    fig.suptitle('Sim - Variation in the resulting direction - dt = '+str(dt)+'s - v = '+str(round(vrightx,2))+'µm/s - offset = '+str(offset)+'px')\n",
    "    plt.tight_layout()  \n",
    "    plt.savefig(string_temp+'Sim - Velocity vs Direction '+str(printname)+'.pdf', format='pdf')\n",
    "    plt.close(fig)#plt.show()\n",
    "\n",
    "    string_temp = savefolderplus + '/DataAll/'\n",
    "    if not os.path.exists(string_temp): os.makedirs(string_temp)          #0    1       2              3              4         5         6              7         8         9          10                  11\n",
    "    np.savetxt(string_temp + 'DataSim-file'+str(p)+'.txt', np.transpose([vright,vrightx,corrangleright,HWHMrightangle,varrightx,varrighty,HWHMlaserangle,varlaserx,varlasery,meanlaserx,-pxtomum*offset*1e6,maxvelocity*1e6]),fmt='%1.6f')"
   ]
  },
  {
   "cell_type": "code",
   "execution_count": null,
   "metadata": {
    "collapsed": true
   },
   "outputs": [],
   "source": []
  },
  {
   "cell_type": "code",
   "execution_count": null,
   "metadata": {
    "collapsed": true
   },
   "outputs": [],
   "source": []
  },
  {
   "cell_type": "code",
   "execution_count": 15,
   "metadata": {
    "collapsed": false
   },
   "outputs": [
    {
     "name": "stdout",
     "output_type": "stream",
     "text": [
      "-0.805879745368\n",
      "7.462e-07\n"
     ]
    }
   ],
   "source": [
    "print(meanlaserx)\n",
    "print(offset*pxtomum)"
   ]
  },
  {
   "cell_type": "code",
   "execution_count": 14,
   "metadata": {
    "collapsed": false
   },
   "outputs": [
    {
     "name": "stdout",
     "output_type": "stream",
     "text": [
      "8.05799125146e-07\n",
      "7.462e-07\n"
     ]
    }
   ],
   "source": [
    "print(np.mean(-laseroffset[:,0]))\n",
    "print(offset*pxtomum)"
   ]
  },
  {
   "cell_type": "code",
   "execution_count": 16,
   "metadata": {
    "collapsed": false
   },
   "outputs": [
    {
     "data": {
      "text/plain": [
       "6e-06"
      ]
     },
     "execution_count": 16,
     "metadata": {},
     "output_type": "execute_result"
    }
   ],
   "source": [
    "maxvelocity"
   ]
  },
  {
   "cell_type": "code",
   "execution_count": null,
   "metadata": {
    "collapsed": true
   },
   "outputs": [],
   "source": []
  }
 ],
 "metadata": {
  "anaconda-cloud": {},
  "kernelspec": {
   "display_name": "Python [Root]",
   "language": "python",
   "name": "Python [Root]"
  },
  "language_info": {
   "codemirror_mode": {
    "name": "ipython",
    "version": 3
   },
   "file_extension": ".py",
   "mimetype": "text/x-python",
   "name": "python",
   "nbconvert_exporter": "python",
   "pygments_lexer": "ipython3",
   "version": "3.5.2"
  }
 },
 "nbformat": 4,
 "nbformat_minor": 0
}
